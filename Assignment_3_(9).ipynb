{
  "nbformat": 4,
  "nbformat_minor": 0,
  "metadata": {
    "anaconda-cloud": {},
    "coursera": {
      "course_slug": "python-data-analysis",
      "graded_item_id": "zAr06",
      "launcher_item_id": "KSSjT",
      "part_id": "SL3fU"
    },
    "kernelspec": {
      "display_name": "Python 3",
      "language": "python",
      "name": "python3"
    },
    "language_info": {
      "codemirror_mode": {
        "name": "ipython",
        "version": 3
      },
      "file_extension": ".py",
      "mimetype": "text/x-python",
      "name": "python",
      "nbconvert_exporter": "python",
      "pygments_lexer": "ipython3",
      "version": "3.5.2"
    },
    "colab": {
      "name": "Assignment 3 (9).ipynb",
      "provenance": [],
      "collapsed_sections": [
        "9c3AcBEBNPIX",
        "5WdW6Wj8NPIZ",
        "NoVLrqPBNPIc",
        "Srx1rPLtNPIe",
        "CQl2a0P9NPIg"
      ],
      "include_colab_link": true
    }
  },
  "cells": [
    {
      "cell_type": "markdown",
      "metadata": {
        "id": "view-in-github",
        "colab_type": "text"
      },
      "source": [
        "<a href=\"https://colab.research.google.com/github/mhdsuhail/learning_aura_all/blob/main/Assignment_3_(9).ipynb\" target=\"_parent\"><img src=\"https://colab.research.google.com/assets/colab-badge.svg\" alt=\"Open In Colab\"/></a>"
      ]
    },
    {
      "cell_type": "markdown",
      "metadata": {
        "id": "0JcJ50QQNPHU"
      },
      "source": [
        "---\n",
        "\n",
        "_You are currently looking at **version 1.5** of this notebook. To download notebooks and datafiles, as well as get help on Jupyter notebooks in the Coursera platform, visit the [Jupyter Notebook FAQ](https://www.coursera.org/learn/python-data-analysis/resources/0dhYG) course resource._\n",
        "\n",
        "---"
      ]
    },
    {
      "cell_type": "markdown",
      "metadata": {
        "id": "pXvvf7gQNPHx"
      },
      "source": [
        "# Assignment 3 - More Pandas\n",
        "This assignment requires more individual learning then the last one did - you are encouraged to check out the [pandas documentation](http://pandas.pydata.org/pandas-docs/stable/) to find functions or methods you might not have used yet, or ask questions on [Stack Overflow](http://stackoverflow.com/) and tag them as pandas and python related. And of course, the discussion forums are open for interaction with your peers and the course staff."
      ]
    },
    {
      "cell_type": "markdown",
      "metadata": {
        "id": "Z-kcLrfNNPH0"
      },
      "source": [
        "### Question 1 (20%)\n",
        "Load the energy data from the file `Energy Indicators.xls`, which is a list of indicators of [energy supply and renewable electricity production](Energy%20Indicators.xls) from the [United Nations](http://unstats.un.org/unsd/environment/excel_file_tables/2013/Energy%20Indicators.xls) for the year 2013, and should be put into a DataFrame with the variable name of **energy**.\n",
        "\n",
        "Keep in mind that this is an Excel file, and not a comma separated values file. Also, make sure to exclude the footer and header information from the datafile. The first two columns are unneccessary, so you should get rid of them, and you should change the column labels so that the columns are:\n",
        "\n",
        "`['Country', 'Energy Supply', 'Energy Supply per Capita', '% Renewable']`\n",
        "\n",
        "Convert `Energy Supply` to gigajoules (there are 1,000,000 gigajoules in a petajoule). For all countries which have missing data (e.g. data with \"...\") make sure this is reflected as `np.NaN` values.\n",
        "\n",
        "Rename the following list of countries (for use in later questions):\n",
        "\n",
        "```\"Republic of Korea\": \"South Korea\",\n",
        "\"United States of America\": \"United States\",\n",
        "\"United Kingdom of Great Britain and Northern Ireland\": \"United Kingdom\",\n",
        "\"China, Hong Kong Special Administrative Region\": \"Hong Kong\"```\n",
        "\n",
        "There are also several countries with numbers and/or parenthesis in their name. Be sure to remove these, \n",
        "\n",
        "e.g. \n",
        "\n",
        "`'Bolivia (Plurinational State of)'` should be `'Bolivia'`, \n",
        "\n",
        "`'Switzerland17'` should be `'Switzerland'`.\n",
        "\n",
        "<br>\n",
        "\n",
        "Next, load the GDP data from the file `world_bank.csv`, which is a csv containing countries' GDP from 1960 to 2015 from [World Bank](http://data.worldbank.org/indicator/NY.GDP.MKTP.CD). Call this DataFrame **GDP**. \n",
        "\n",
        "Make sure to skip the header, and rename the following list of countries:\n",
        "\n",
        "```\"Korea, Rep.\": \"South Korea\", \n",
        "\"Iran, Islamic Rep.\": \"Iran\",\n",
        "\"Hong Kong SAR, China\": \"Hong Kong\"```\n",
        "\n",
        "<br>\n",
        "\n",
        "Finally, load the [Sciamgo Journal and Country Rank data for Energy Engineering and Power Technology](http://www.scimagojr.com/countryrank.php?category=2102) from the file `scimagojr-3.xlsx`, which ranks countries based on their journal contributions in the aforementioned area. Call this DataFrame **ScimEn**.\n",
        "\n",
        "Join the three datasets: GDP, Energy, and ScimEn into a new dataset (using the intersection of country names). Use only the last 10 years (2006-2015) of GDP data and only the top 15 countries by Scimagojr 'Rank' (Rank 1 through 15). \n",
        "\n",
        "The index of this DataFrame should be the name of the country, and the columns should be ['Rank', 'Documents', 'Citable documents', 'Citations', 'Self-citations',\n",
        "       'Citations per document', 'H index', 'Energy Supply',\n",
        "       'Energy Supply per Capita', '% Renewable', '2006', '2007', '2008',\n",
        "       '2009', '2010', '2011', '2012', '2013', '2014', '2015'].\n",
        "\n",
        "*This function should return a DataFrame with 20 columns and 15 entries.*"
      ]
    },
    {
      "cell_type": "code",
      "metadata": {
        "id": "QFnikienOj7-"
      },
      "source": [
        "from google.colab import files\r\n",
        "files.upload()"
      ],
      "execution_count": null,
      "outputs": []
    },
    {
      "cell_type": "code",
      "metadata": {
        "id": "YHz62skxJdBq"
      },
      "source": [
        "files.upload()"
      ],
      "execution_count": null,
      "outputs": []
    },
    {
      "cell_type": "code",
      "metadata": {
        "id": "g1x3cc7gLnX9"
      },
      "source": [
        "files.upload()"
      ],
      "execution_count": null,
      "outputs": []
    },
    {
      "cell_type": "code",
      "metadata": {
        "id": "lsp-IFFgOLN7"
      },
      "source": [
        "import pandas as pd\r\n",
        "import numpy as np\r\n",
        "energy = pd.read_excel('Energy Indicators.xls',skipfooter=38,skiprows=17)\r\n",
        "energy.drop(['Unnamed: 0','Unnamed: 1'],axis=1,inplace=True)\r\n",
        "energy.columns = ['Country', 'Energy Supply', 'Energy Supply per Capita', '% Renewable']\r\n",
        "energy.replace('...',np.NaN,inplace=True)\r\n",
        "energy['Energy Supply'] *= 1000000\r\n",
        "energy.dropna(inplace=True)\r\n",
        "#energy['Country'] = energy['Country'].replace({\"Republic of Korea\": \"South Korea\", \"United States of America\": \"United States\",\r\n",
        "              #   \"United Kingdom of Great Britain and Northern Ireland\": \"United Kingdom\",\r\n",
        "               #  \"China, Hong Kong Special Administrative Region\": \"Hong Kong\"})\r\n",
        "energy['Country'] = energy['Country'].str.replace('Republic of Korea','South Korea')\r\n",
        "energy['Country'] = energy['Country'].str.replace('United States of America','United States')\r\n",
        "energy['Country'] = energy['Country'].str.replace('United Kingdom of Great Britain and Northern Ireland','United Kingdom')\r\n",
        "energy['Country'] = energy['Country'].str.replace('China, Hong Kong Special Administrative Region','Hong Kong')\r\n",
        "\r\n",
        "energy['Country'] = energy['Country'].str.replace(r\"\\(.*\\)\",\"\").str.strip().str.replace('\\d+', '')\r\n",
        "#df[df['Country'] == 'Switzerland' ]\r\n",
        "energy"
      ],
      "execution_count": null,
      "outputs": []
    },
    {
      "cell_type": "code",
      "metadata": {
        "id": "ItG1wBAlJyYd"
      },
      "source": [
        "GDP = pd.read_csv('world_bank.csv',header=1,skiprows=3)\r\n",
        "GDP.rename(columns={\"Country Name\" :\"Country\"},inplace=True)\r\n",
        "#GDP['Country'].replace({\"Korea, RepDP.\": \"South Korea\", \"Iran, Islamic Rep.\": \"Iran\", \"Hong Kong SAR, China\": \"Hong Kong\"},inplace=True)\r\n",
        "GDP['Country'] = GDP['Country'].str.replace('Korea, Rep.','South Korea')\r\n",
        "GDP['Country'] = GDP['Country'].str.replace('Iran, Islamic Rep.','Iran')\r\n",
        "GDP['Country'] = GDP['Country'].str.replace('Hong Kong SAR, China','Hong Kong')\r\n",
        "#GDP = GDP[['Country','2006','2007','2008','2009','2010','2011','2012','2013','2014','2015']]\r\n",
        "pd.set_option('display.max_rows',15)\r\n",
        "GDP.head()"
      ],
      "execution_count": null,
      "outputs": []
    },
    {
      "cell_type": "code",
      "metadata": {
        "id": "QLK2FS9yL2VO"
      },
      "source": [
        "ScimEn = pd.read_excel('scimagojr-3.xlsx')\r\n",
        "#ScimEn = ScimEn[0:15]\r\n",
        "ScimEn"
      ],
      "execution_count": null,
      "outputs": []
    },
    {
      "cell_type": "code",
      "metadata": {
        "id": "hDxFX6QkNPH4"
      },
      "source": [
        "temp_size =0\n",
        "def answer_one():\n",
        "  temp_df = pd.merge(ScimEn,energy,how='outer',left_on='Country',right_on='Country')\n",
        "  temp_df = pd.merge(temp_df,GDP,how='outer',left_on='Country',right_on='Country')\n",
        "  temp_size = temp_df.shape[0]\n",
        "  temp_df = temp_df.sort_values('Rank').head(15)\n",
        "  temp_df = temp_df.reset_index()\n",
        "  temp_df = temp_df[['Country','Rank','Documents','Citable documents','Citations','Self-citations','Citations per document','H index','Energy Supply','Energy Supply per Capita','% Renewable','2006','2007','2008','2009','2010','2011','2012','2013','2014','2015']]\n",
        "  return temp_df.set_index('Country')\n",
        "  #return temp_size\n",
        "answer_one()"
      ],
      "execution_count": null,
      "outputs": []
    },
    {
      "cell_type": "markdown",
      "metadata": {
        "id": "lyQbu1gBNPH6"
      },
      "source": [
        "### Question 2 (6.6%)\n",
        "The previous question joined three datasets then reduced this to just the top 15 entries. When you joined the datasets, but before you reduced this to the top 15 items, how many entries did you lose?\n",
        "\n",
        "*This function should return a single number.*"
      ]
    },
    {
      "cell_type": "code",
      "metadata": {
        "id": "6Fe-M4XjNPH8",
        "colab": {
          "base_uri": "https://localhost:8080/",
          "height": 321
        },
        "outputId": "12f29fc6-7ebf-4d84-f0f6-f34ef6041a19"
      },
      "source": [
        "%%HTML\n",
        "<svg width=\"800\" height=\"300\">\n",
        "  <circle cx=\"150\" cy=\"180\" r=\"80\" fill-opacity=\"0.2\" stroke=\"black\" stroke-width=\"2\" fill=\"blue\" />\n",
        "  <circle cx=\"200\" cy=\"100\" r=\"80\" fill-opacity=\"0.2\" stroke=\"black\" stroke-width=\"2\" fill=\"red\" />\n",
        "  <circle cx=\"100\" cy=\"100\" r=\"80\" fill-opacity=\"0.2\" stroke=\"black\" stroke-width=\"2\" fill=\"green\" />\n",
        "  <line x1=\"150\" y1=\"125\" x2=\"300\" y2=\"150\" stroke=\"black\" stroke-width=\"2\" fill=\"black\" stroke-dasharray=\"5,3\"/>\n",
        "  <text  x=\"300\" y=\"165\" font-family=\"Verdana\" font-size=\"35\">Everything but this!</text>\n",
        "</svg>"
      ],
      "execution_count": null,
      "outputs": [
        {
          "output_type": "display_data",
          "data": {
            "text/html": [
              "<svg width=\"800\" height=\"300\">\n",
              "  <circle cx=\"150\" cy=\"180\" r=\"80\" fill-opacity=\"0.2\" stroke=\"black\" stroke-width=\"2\" fill=\"blue\" />\n",
              "  <circle cx=\"200\" cy=\"100\" r=\"80\" fill-opacity=\"0.2\" stroke=\"black\" stroke-width=\"2\" fill=\"red\" />\n",
              "  <circle cx=\"100\" cy=\"100\" r=\"80\" fill-opacity=\"0.2\" stroke=\"black\" stroke-width=\"2\" fill=\"green\" />\n",
              "  <line x1=\"150\" y1=\"125\" x2=\"300\" y2=\"150\" stroke=\"black\" stroke-width=\"2\" fill=\"black\" stroke-dasharray=\"5,3\"/>\n",
              "  <text  x=\"300\" y=\"165\" font-family=\"Verdana\" font-size=\"35\">Everything but this!</text>\n",
              "</svg>"
            ],
            "text/plain": [
              "<IPython.core.display.HTML object>"
            ]
          },
          "metadata": {
            "tags": []
          }
        }
      ]
    },
    {
      "cell_type": "code",
      "metadata": {
        "id": "nOYdOJqTNPIB",
        "colab": {
          "base_uri": "https://localhost:8080/"
        },
        "outputId": "b8e6e97f-43b8-46b4-b90d-28fd6762ed58"
      },
      "source": [
        "def answer_two():\n",
        "    temp_df = answer_one()\n",
        "    return temp_size -temp_df.shape[0]\n",
        "answer_two()"
      ],
      "execution_count": null,
      "outputs": [
        {
          "output_type": "execute_result",
          "data": {
            "text/plain": [
              "-15"
            ]
          },
          "metadata": {
            "tags": []
          },
          "execution_count": 75
        }
      ]
    },
    {
      "cell_type": "markdown",
      "metadata": {
        "id": "tLggzC_-NPID"
      },
      "source": [
        "<br>\n",
        "\n",
        "Answer the following questions in the context of only the top 15 countries by Scimagojr Rank (aka the DataFrame returned by `answer_one()`)"
      ]
    },
    {
      "cell_type": "markdown",
      "metadata": {
        "id": "i8jNMgRaNPIE"
      },
      "source": [
        "### Question 3 (6.6%)\n",
        "What is the average GDP over the last 10 years for each country? (exclude missing values from this calculation.)\n",
        "\n",
        "*This function should return a Series named `avgGDP` with 15 countries and their average GDP sorted in descending order.*"
      ]
    },
    {
      "cell_type": "code",
      "metadata": {
        "scrolled": true,
        "id": "tWjWwrlVNPIF"
      },
      "source": [
        "def answer_three():\n",
        "    Top15 = answer_one()\n",
        "    #Top15 =Top15.iloc[:,10:] \n",
        "    Top15 = Top15[['2006','2007','2008','2009','2010','2011','2012','2013','2014','2015']]\n",
        "    Top15['avgGDP'] = Top15.mean(axis=1).sort_values(ascending =False)\n",
        "    return Top15\n",
        "a = answer_three()\n",
        "a['avgGDP']"
      ],
      "execution_count": null,
      "outputs": []
    },
    {
      "cell_type": "markdown",
      "metadata": {
        "id": "qXLigNnmNPIH"
      },
      "source": [
        "### Question 4 (6.6%)\n",
        "By how much had the GDP changed over the 10 year span for the country with the 6th largest average GDP?\n",
        "\n",
        "*This function should return a single number.*"
      ]
    },
    {
      "cell_type": "code",
      "metadata": {
        "scrolled": true,
        "id": "X0vjNP_dNPII",
        "colab": {
          "base_uri": "https://localhost:8080/"
        },
        "outputId": "6378443b-2c4a-4e30-ea68-b62f56156695"
      },
      "source": [
        "def answer_four():\n",
        "    Top15 = answer_three()\n",
        "    top = answer_one()\n",
        "    ctry = Top15['avgGDP'].nlargest(6).idxmin()\n",
        "    return Top15.loc[ctry,'2015'] - Top15.loc[ctry,'2006']\n",
        "answer_four()"
      ],
      "execution_count": null,
      "outputs": [
        {
          "output_type": "execute_result",
          "data": {
            "text/plain": [
              "246702696075.3999"
            ]
          },
          "metadata": {
            "tags": []
          },
          "execution_count": 90
        }
      ]
    },
    {
      "cell_type": "markdown",
      "metadata": {
        "id": "t5WaLyZtNPIJ"
      },
      "source": [
        "### Question 5 (6.6%)\n",
        "What is the mean `Energy Supply per Capita`?\n",
        "\n",
        "*This function should return a single number.*"
      ]
    },
    {
      "cell_type": "code",
      "metadata": {
        "id": "XuaSPTM2NPIK",
        "colab": {
          "base_uri": "https://localhost:8080/"
        },
        "outputId": "c9b7166c-0d7b-4552-d71a-d8a74e30d236"
      },
      "source": [
        "def answer_five():\n",
        "    Top15 = answer_one()\n",
        "    return Top15['Energy Supply per Capita'].mean()\n",
        "    #return Top15\n",
        "answer_five()"
      ],
      "execution_count": null,
      "outputs": [
        {
          "output_type": "execute_result",
          "data": {
            "text/plain": [
              "157.6"
            ]
          },
          "metadata": {
            "tags": []
          },
          "execution_count": 91
        }
      ]
    },
    {
      "cell_type": "markdown",
      "metadata": {
        "id": "7zftL80wNPIL"
      },
      "source": [
        "### Question 6 (6.6%)\n",
        "What country has the maximum % Renewable and what is the percentage?\n",
        "\n",
        "*This function should return a tuple with the name of the country and the percentage.*"
      ]
    },
    {
      "cell_type": "code",
      "metadata": {
        "id": "JN3uYYjbNPIM",
        "colab": {
          "base_uri": "https://localhost:8080/"
        },
        "outputId": "a7d5ac9b-8c5e-45e2-fbaf-4640b90d6a76"
      },
      "source": [
        "def answer_six():\n",
        "    Top15 = answer_one()\n",
        "    Topid = Top15['% Renewable'].idxmax()\n",
        "    #a = Top15['% Renewable'].max()\n",
        "    #Top15 = Top15[Top15['% Renewable'] == Top15['% Renewable'].max()].reset_index()\n",
        "    return Topid,Top15.loc[Topid,'% Renewable']\n",
        "answer_six()"
      ],
      "execution_count": null,
      "outputs": [
        {
          "output_type": "execute_result",
          "data": {
            "text/plain": [
              "('Brazil', 69.64803)"
            ]
          },
          "metadata": {
            "tags": []
          },
          "execution_count": 102
        }
      ]
    },
    {
      "cell_type": "markdown",
      "metadata": {
        "id": "JuyDMdMvNPIP"
      },
      "source": [
        "### Question 7 (6.6%)\n",
        "Create a new column that is the ratio of Self-Citations to Total Citations. \n",
        "What is the maximum value for this new column, and what country has the highest ratio?\n",
        "\n",
        "*This function should return a tuple with the name of the country and the ratio.*"
      ]
    },
    {
      "cell_type": "code",
      "metadata": {
        "id": "wZw1j_fPNPIQ",
        "colab": {
          "base_uri": "https://localhost:8080/"
        },
        "outputId": "b969626e-c182-49c8-e713-65c6a9dcf224"
      },
      "source": [
        "def answer_seven():\n",
        "    Top15 = answer_one().reset_index()\n",
        "    Top15['ratio'] = Top15['Self-citations'] / Top15['Citations']\n",
        "    #Top15 = Top15['Country', ]\n",
        "    return Top15.loc[Top15['ratio'].idxmax(),'Country'] , Top15['ratio'].max()\n",
        "answer_seven()"
      ],
      "execution_count": null,
      "outputs": [
        {
          "output_type": "execute_result",
          "data": {
            "text/plain": [
              "('China', 0.6893126179389422)"
            ]
          },
          "metadata": {
            "tags": []
          },
          "execution_count": 105
        }
      ]
    },
    {
      "cell_type": "markdown",
      "metadata": {
        "id": "YYYjZHAiNPIR"
      },
      "source": [
        "### Question 8 (6.6%)\n",
        "\n",
        "Create a column that estimates the population using Energy Supply and Energy Supply per capita. \n",
        "What is the third most populous country according to this estimate?\n",
        "\n",
        "*This function should return a single string value.*"
      ]
    },
    {
      "cell_type": "code",
      "metadata": {
        "id": "9ocF4gnKNPIS",
        "colab": {
          "base_uri": "https://localhost:8080/",
          "height": 35
        },
        "outputId": "4397cc43-09e6-4881-f97b-42b884ca2d6a"
      },
      "source": [
        "def answer_eight():\n",
        "    Top15 = answer_one().reset_index()\n",
        "    Top15['est'] = Top15['Energy Supply'] / Top15['Energy Supply per Capita'] \n",
        "    return Top15.loc[Top15['est'].nlargest(3).idxmin(),'Country']\n",
        "answer_eight()"
      ],
      "execution_count": null,
      "outputs": [
        {
          "output_type": "execute_result",
          "data": {
            "application/vnd.google.colaboratory.intrinsic+json": {
              "type": "string"
            },
            "text/plain": [
              "'United States'"
            ]
          },
          "metadata": {
            "tags": []
          },
          "execution_count": 108
        }
      ]
    },
    {
      "cell_type": "markdown",
      "metadata": {
        "id": "-b2AcxCkNPIT"
      },
      "source": [
        "### Question 9 (6.6%)\n",
        "Create a column that estimates the number of citable documents per person. \n",
        "What is the correlation between the number of citable documents per capita and the energy supply per capita? Use the `.corr()` method, (Pearson's correlation).\n",
        "\n",
        "*This function should return a single number.*\n",
        "\n",
        "*(Optional: Use the built-in function `plot9()` to visualize the relationship between Energy Supply per Capita vs. Citable docs per Capita)*"
      ]
    },
    {
      "cell_type": "code",
      "metadata": {
        "id": "6UqkecHrNPIU",
        "colab": {
          "base_uri": "https://localhost:8080/"
        },
        "outputId": "d62f68ba-64e6-47f9-b942-f85e769bbb96"
      },
      "source": [
        "def answer_nine():\n",
        "    Top15 = answer_one()\n",
        "    Top15['citable_per_person'] = Top15['Citable documents'] / (Top15['Energy Supply'] / Top15['Energy Supply per Capita'])\n",
        "    return Top15['citable_per_person'].corr(Top15['Energy Supply per Capita'])\n",
        "answer_nine()"
      ],
      "execution_count": null,
      "outputs": [
        {
          "output_type": "execute_result",
          "data": {
            "text/plain": [
              "0.7940010435442946"
            ]
          },
          "metadata": {
            "tags": []
          },
          "execution_count": 112
        }
      ]
    },
    {
      "cell_type": "code",
      "metadata": {
        "id": "WrPckuXiNPIV"
      },
      "source": [
        "def plot9():\n",
        "    import matplotlib as plt\n",
        "    %matplotlib inline\n",
        "    \n",
        "    Top15 = answer_one()\n",
        "    Top15['PopEst'] = Top15['Energy Supply'] / Top15['Energy Supply per Capita']\n",
        "    Top15['Citable docs per Capita'] = Top15['Citable documents'] / Top15['PopEst']\n",
        "    Top15.plot(x='Citable docs per Capita', y='Energy Supply per Capita', kind='scatter', xlim=[0, 0.0006])"
      ],
      "execution_count": null,
      "outputs": []
    },
    {
      "cell_type": "code",
      "metadata": {
        "id": "3igye6Q7NPIW",
        "colab": {
          "base_uri": "https://localhost:8080/",
          "height": 279
        },
        "outputId": "4d01223c-2f9b-43d1-ab7c-4fcdff3837be"
      },
      "source": [
        "#plot9() # Be sure to comment out plot9() before submitting the assignment!"
      ],
      "execution_count": null,
      "outputs": [
        {
          "output_type": "display_data",
          "data": {
            "image/png": "[encoded data removed]",
            "text/plain": [
              "<Figure size 432x288 with 1 Axes>"
            ]
          },
          "metadata": {
            "tags": [],
            "needs_background": "light"
          }
        }
      ]
    },
    {
      "cell_type": "markdown",
      "metadata": {
        "id": "9c3AcBEBNPIX"
      },
      "source": [
        "### Question 10 (6.6%)\n",
        "Create a new column with a 1 if the country's % Renewable value is at or above the median for all countries in the top 15, and a 0 if the country's % Renewable value is below the median.\n",
        "\n",
        "*This function should return a series named `HighRenew` whose index is the country name sorted in ascending order of rank.*"
      ]
    },
    {
      "cell_type": "code",
      "metadata": {
        "id": "o0mhNipiNPIY"
      },
      "source": [
        "def answer_ten():\n",
        "    Top15 = answer_one()\n",
        "    return \"ANSWER\""
      ],
      "execution_count": null,
      "outputs": []
    },
    {
      "cell_type": "markdown",
      "metadata": {
        "id": "5WdW6Wj8NPIZ"
      },
      "source": [
        "### Question 11 (6.6%)\n",
        "Use the following dictionary to group the Countries by Continent, then create a dateframe that displays the sample size (the number of countries in each continent bin), and the sum, mean, and std deviation for the estimated population of each country.\n",
        "\n",
        "```python\n",
        "ContinentDict  = {'China':'Asia', \n",
        "                  'United States':'North America', \n",
        "                  'Japan':'Asia', \n",
        "                  'United Kingdom':'Europe', \n",
        "                  'Russian Federation':'Europe', \n",
        "                  'Canada':'North America', \n",
        "                  'Germany':'Europe', \n",
        "                  'India':'Asia',\n",
        "                  'France':'Europe', \n",
        "                  'South Korea':'Asia', \n",
        "                  'Italy':'Europe', \n",
        "                  'Spain':'Europe', \n",
        "                  'Iran':'Asia',\n",
        "                  'Australia':'Australia', \n",
        "                  'Brazil':'South America'}\n",
        "```\n",
        "\n",
        "*This function should return a DataFrame with index named Continent `['Asia', 'Australia', 'Europe', 'North America', 'South America']` and columns `['size', 'sum', 'mean', 'std']`*"
      ]
    },
    {
      "cell_type": "code",
      "metadata": {
        "id": "skkXb-wQNPIb"
      },
      "source": [
        "def answer_eleven():\n",
        "    Top15 = answer_one()\n",
        "    return \"ANSWER\""
      ],
      "execution_count": null,
      "outputs": []
    },
    {
      "cell_type": "markdown",
      "metadata": {
        "id": "NoVLrqPBNPIc"
      },
      "source": [
        "### Question 12 (6.6%)\n",
        "Cut % Renewable into 5 bins. Group Top15 by the Continent, as well as these new % Renewable bins. How many countries are in each of these groups?\n",
        "\n",
        "*This function should return a __Series__ with a MultiIndex of `Continent`, then the bins for `% Renewable`. Do not include groups with no countries.*"
      ]
    },
    {
      "cell_type": "code",
      "metadata": {
        "scrolled": true,
        "id": "VarBoz0ONPId"
      },
      "source": [
        "def answer_twelve():\n",
        "    Top15 = answer_one()\n",
        "    return \"ANSWER\""
      ],
      "execution_count": null,
      "outputs": []
    },
    {
      "cell_type": "markdown",
      "metadata": {
        "id": "Srx1rPLtNPIe"
      },
      "source": [
        "### Question 13 (6.6%)\n",
        "Convert the Population Estimate series to a string with thousands separator (using commas). Do not round the results.\n",
        "\n",
        "e.g. 317615384.61538464 -> 317,615,384.61538464\n",
        "\n",
        "*This function should return a Series `PopEst` whose index is the country name and whose values are the population estimate string.*"
      ]
    },
    {
      "cell_type": "code",
      "metadata": {
        "scrolled": true,
        "id": "l-d7DLfgNPIf"
      },
      "source": [
        "def answer_thirteen():\n",
        "    Top15 = answer_one()\n",
        "    return \"ANSWER\""
      ],
      "execution_count": null,
      "outputs": []
    },
    {
      "cell_type": "markdown",
      "metadata": {
        "id": "CQl2a0P9NPIg"
      },
      "source": [
        "### Optional\n",
        "\n",
        "Use the built in function `plot_optional()` to see an example visualization."
      ]
    },
    {
      "cell_type": "code",
      "metadata": {
        "scrolled": true,
        "id": "3XDjPfm5NPIh"
      },
      "source": [
        "def plot_optional():\n",
        "    import matplotlib as plt\n",
        "    %matplotlib inline\n",
        "    Top15 = answer_one()\n",
        "    ax = Top15.plot(x='Rank', y='% Renewable', kind='scatter', \n",
        "                    c=['#e41a1c','#377eb8','#e41a1c','#4daf4a','#4daf4a','#377eb8','#4daf4a','#e41a1c',\n",
        "                       '#4daf4a','#e41a1c','#4daf4a','#4daf4a','#e41a1c','#dede00','#ff7f00'], \n",
        "                    xticks=range(1,16), s=6*Top15['2014']/10**10, alpha=.75, figsize=[16,6]);\n",
        "\n",
        "    for i, txt in enumerate(Top15.index):\n",
        "        ax.annotate(txt, [Top15['Rank'][i], Top15['% Renewable'][i]], ha='center')\n",
        "\n",
        "    print(\"This is an example of a visualization that can be created to help understand the data. \\\n",
        "This is a bubble chart showing % Renewable vs. Rank. The size of the bubble corresponds to the countries' \\\n",
        "2014 GDP, and the color corresponds to the continent.\")"
      ],
      "execution_count": null,
      "outputs": []
    },
    {
      "cell_type": "code",
      "metadata": {
        "id": "hpok-v8JNPIh"
      },
      "source": [
        "#plot_optional() # Be sure to comment out plot_optional() before submitting the assignment!"
      ],
      "execution_count": null,
      "outputs": []
    }
  ]
}